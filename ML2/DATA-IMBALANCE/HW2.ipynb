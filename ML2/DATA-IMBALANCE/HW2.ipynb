{
 "cells": [
  {
   "cell_type": "markdown",
   "id": "3d35f48a",
   "metadata": {
    "id": "3d35f48a"
   },
   "source": [
    "# Example on the impact of Resampling: Credit Card Fraud Data\n",
    "\n",
    "We will now combine our previous discussions to investigate the effect of the resampling techniques discussed on our model performance. This time, we will use `imblearn`'s implementation of the sampling methods. We will use all default parameters for the models (no optimization yet). Again, we will use the **credit card fraud dataset**."
   ]
  },
  {
   "cell_type": "code",
   "execution_count": 1,
   "id": "7c7163e5",
   "metadata": {
    "ExecuteTime": {
     "end_time": "2023-01-19T04:42:36.385423Z",
     "start_time": "2023-01-19T04:42:34.688570Z"
    },
    "execution": {
     "iopub.execute_input": "2024-10-06T12:33:08.089415Z",
     "iopub.status.busy": "2024-10-06T12:33:08.088748Z",
     "iopub.status.idle": "2024-10-06T12:33:09.780051Z",
     "shell.execute_reply": "2024-10-06T12:33:09.779142Z",
     "shell.execute_reply.started": "2024-10-06T12:33:08.089358Z"
    },
    "executionInfo": {
     "elapsed": 6310,
     "status": "ok",
     "timestamp": 1728118219243,
     "user": {
      "displayName": "Alyssa Valerio",
      "userId": "13917867858498920441"
     },
     "user_tz": -480
    },
    "id": "7c7163e5"
   },
   "outputs": [],
   "source": [
    "import numpy as np\n",
    "import matplotlib.pyplot as plt\n",
    "import pandas as pd\n",
    "import seaborn as sns\n",
    "\n",
    "import time\n",
    "from tqdm import tqdm\n",
    "from sklearn.neighbors import KNeighborsClassifier\n",
    "from sklearn.linear_model import LogisticRegression\n",
    "from sklearn.tree import DecisionTreeClassifier\n",
    "from sklearn.ensemble import (RandomForestClassifier,\n",
    "                              GradientBoostingClassifier)\n",
    "from sklearn.model_selection import train_test_split, KFold, StratifiedKFold\n",
    "\n",
    "import warnings\n",
    "warnings.filterwarnings(\"ignore\")\n",
    "\n",
    "# metrics\n",
    "from imblearn.metrics import sensitivity_score, geometric_mean_score\n",
    "\n",
    "#resampling methods\n",
    "from imblearn.over_sampling import RandomOverSampler, SMOTE, ADASYN\n",
    "from imblearn.under_sampling import RandomUnderSampler\n",
    "\n",
    "# pipeline\n",
    "from imblearn.pipeline import Pipeline"
   ]
  },
  {
   "cell_type": "markdown",
   "id": "13528ee0",
   "metadata": {
    "id": "13528ee0"
   },
   "source": [
    "## Prepare Data"
   ]
  },
  {
   "cell_type": "code",
   "execution_count": 2,
   "id": "6d04162b",
   "metadata": {
    "ExecuteTime": {
     "end_time": "2023-01-19T04:42:37.016427Z",
     "start_time": "2023-01-19T04:42:36.784103Z"
    },
    "colab": {
     "base_uri": "https://localhost:8080/",
     "height": 173
    },
    "execution": {
     "iopub.execute_input": "2024-10-06T12:33:09.781742Z",
     "iopub.status.busy": "2024-10-06T12:33:09.781408Z",
     "iopub.status.idle": "2024-10-06T12:33:10.006709Z",
     "shell.execute_reply": "2024-10-06T12:33:10.005154Z",
     "shell.execute_reply.started": "2024-10-06T12:33:09.781721Z"
    },
    "executionInfo": {
     "elapsed": 2318,
     "status": "ok",
     "timestamp": 1728118343854,
     "user": {
      "displayName": "Alyssa Valerio",
      "userId": "13917867858498920441"
     },
     "user_tz": -480
    },
    "id": "6d04162b",
    "outputId": "df764153-7286-4fa5-ab22-fe8bbc9ec7f2"
   },
   "outputs": [
    {
     "data": {
      "text/html": [
       "<div>\n",
       "<style scoped>\n",
       "    .dataframe tbody tr th:only-of-type {\n",
       "        vertical-align: middle;\n",
       "    }\n",
       "\n",
       "    .dataframe tbody tr th {\n",
       "        vertical-align: top;\n",
       "    }\n",
       "\n",
       "    .dataframe thead th {\n",
       "        text-align: right;\n",
       "    }\n",
       "</style>\n",
       "<table border=\"1\" class=\"dataframe\">\n",
       "  <thead>\n",
       "    <tr style=\"text-align: right;\">\n",
       "      <th></th>\n",
       "      <th>V1</th>\n",
       "      <th>V2</th>\n",
       "      <th>V3</th>\n",
       "      <th>V4</th>\n",
       "      <th>V5</th>\n",
       "      <th>V6</th>\n",
       "      <th>V7</th>\n",
       "      <th>V8</th>\n",
       "      <th>V9</th>\n",
       "      <th>V10</th>\n",
       "      <th>...</th>\n",
       "      <th>V21</th>\n",
       "      <th>V22</th>\n",
       "      <th>V23</th>\n",
       "      <th>V24</th>\n",
       "      <th>V25</th>\n",
       "      <th>V26</th>\n",
       "      <th>V27</th>\n",
       "      <th>V28</th>\n",
       "      <th>Amount</th>\n",
       "      <th>Class</th>\n",
       "    </tr>\n",
       "  </thead>\n",
       "  <tbody>\n",
       "    <tr>\n",
       "      <th>0</th>\n",
       "      <td>-0.611712</td>\n",
       "      <td>-0.769705</td>\n",
       "      <td>-0.149759</td>\n",
       "      <td>-0.224877</td>\n",
       "      <td>2.028577</td>\n",
       "      <td>-2.019887</td>\n",
       "      <td>0.292491</td>\n",
       "      <td>-0.523020</td>\n",
       "      <td>0.358468</td>\n",
       "      <td>0.070050</td>\n",
       "      <td>...</td>\n",
       "      <td>-0.075208</td>\n",
       "      <td>0.045536</td>\n",
       "      <td>0.380739</td>\n",
       "      <td>0.023440</td>\n",
       "      <td>-2.220686</td>\n",
       "      <td>-0.201146</td>\n",
       "      <td>0.066501</td>\n",
       "      <td>0.221180</td>\n",
       "      <td>1.79</td>\n",
       "      <td>0</td>\n",
       "    </tr>\n",
       "    <tr>\n",
       "      <th>1</th>\n",
       "      <td>-0.814682</td>\n",
       "      <td>1.319219</td>\n",
       "      <td>1.329415</td>\n",
       "      <td>0.027273</td>\n",
       "      <td>-0.284871</td>\n",
       "      <td>-0.653985</td>\n",
       "      <td>0.321552</td>\n",
       "      <td>0.435975</td>\n",
       "      <td>-0.704298</td>\n",
       "      <td>-0.600684</td>\n",
       "      <td>...</td>\n",
       "      <td>-0.128619</td>\n",
       "      <td>-0.368565</td>\n",
       "      <td>0.090660</td>\n",
       "      <td>0.401147</td>\n",
       "      <td>-0.261034</td>\n",
       "      <td>0.080621</td>\n",
       "      <td>0.162427</td>\n",
       "      <td>0.059456</td>\n",
       "      <td>1.98</td>\n",
       "      <td>0</td>\n",
       "    </tr>\n",
       "    <tr>\n",
       "      <th>2</th>\n",
       "      <td>-0.318193</td>\n",
       "      <td>1.118618</td>\n",
       "      <td>0.969864</td>\n",
       "      <td>-0.127052</td>\n",
       "      <td>0.569563</td>\n",
       "      <td>-0.532484</td>\n",
       "      <td>0.706252</td>\n",
       "      <td>-0.064966</td>\n",
       "      <td>-0.463271</td>\n",
       "      <td>-0.528357</td>\n",
       "      <td>...</td>\n",
       "      <td>-0.305402</td>\n",
       "      <td>-0.774704</td>\n",
       "      <td>-0.123884</td>\n",
       "      <td>-0.495687</td>\n",
       "      <td>-0.018148</td>\n",
       "      <td>0.121679</td>\n",
       "      <td>0.249050</td>\n",
       "      <td>0.092516</td>\n",
       "      <td>0.89</td>\n",
       "      <td>0</td>\n",
       "    </tr>\n",
       "  </tbody>\n",
       "</table>\n",
       "<p>3 rows × 30 columns</p>\n",
       "</div>"
      ],
      "text/plain": [
       "         V1        V2        V3        V4        V5        V6        V7  \\\n",
       "0 -0.611712 -0.769705 -0.149759 -0.224877  2.028577 -2.019887  0.292491   \n",
       "1 -0.814682  1.319219  1.329415  0.027273 -0.284871 -0.653985  0.321552   \n",
       "2 -0.318193  1.118618  0.969864 -0.127052  0.569563 -0.532484  0.706252   \n",
       "\n",
       "         V8        V9       V10  ...       V21       V22       V23       V24  \\\n",
       "0 -0.523020  0.358468  0.070050  ... -0.075208  0.045536  0.380739  0.023440   \n",
       "1  0.435975 -0.704298 -0.600684  ... -0.128619 -0.368565  0.090660  0.401147   \n",
       "2 -0.064966 -0.463271 -0.528357  ... -0.305402 -0.774704 -0.123884 -0.495687   \n",
       "\n",
       "        V25       V26       V27       V28  Amount  Class  \n",
       "0 -2.220686 -0.201146  0.066501  0.221180    1.79      0  \n",
       "1 -0.261034  0.080621  0.162427  0.059456    1.98      0  \n",
       "2 -0.018148  0.121679  0.249050  0.092516    0.89      0  \n",
       "\n",
       "[3 rows x 30 columns]"
      ]
     },
     "execution_count": 2,
     "metadata": {},
     "output_type": "execute_result"
    }
   ],
   "source": [
    "df = pd.read_csv('credit_card.csv')\n",
    "df.head(3)"
   ]
  },
  {
   "cell_type": "code",
   "execution_count": 3,
   "id": "2d983b73",
   "metadata": {
    "ExecuteTime": {
     "end_time": "2023-01-19T04:42:37.699905Z",
     "start_time": "2023-01-19T04:42:37.667944Z"
    },
    "execution": {
     "iopub.execute_input": "2024-10-06T12:33:14.352288Z",
     "iopub.status.busy": "2024-10-06T12:33:14.351556Z",
     "iopub.status.idle": "2024-10-06T12:33:14.393409Z",
     "shell.execute_reply": "2024-10-06T12:33:14.392380Z",
     "shell.execute_reply.started": "2024-10-06T12:33:14.352211Z"
    },
    "executionInfo": {
     "elapsed": 382,
     "status": "ok",
     "timestamp": 1728118346079,
     "user": {
      "displayName": "Alyssa Valerio",
      "userId": "13917867858498920441"
     },
     "user_tz": -480
    },
    "id": "2d983b73"
   },
   "outputs": [],
   "source": [
    "# Split into trainval and holdout\n",
    "X, y = df.drop('Class', axis=1), df['Class']\n",
    "\n",
    "(X_trainval, X_holdout, y_trainval, y_holdout) = train_test_split(X, y,\n",
    "                                                                  random_state=143,\n",
    "                                                                  test_size=0.25,\n",
    "                                                                  stratify=y)"
   ]
  },
  {
   "cell_type": "code",
   "execution_count": 4,
   "id": "05681077",
   "metadata": {
    "ExecuteTime": {
     "end_time": "2023-01-19T04:42:38.858096Z",
     "start_time": "2023-01-19T04:42:38.851739Z"
    },
    "execution": {
     "iopub.execute_input": "2024-10-06T12:33:15.815505Z",
     "iopub.status.busy": "2024-10-06T12:33:15.814836Z",
     "iopub.status.idle": "2024-10-06T12:33:15.824067Z",
     "shell.execute_reply": "2024-10-06T12:33:15.822620Z",
     "shell.execute_reply.started": "2024-10-06T12:33:15.815446Z"
    },
    "executionInfo": {
     "elapsed": 351,
     "status": "ok",
     "timestamp": 1728118348019,
     "user": {
      "displayName": "Alyssa Valerio",
      "userId": "13917867858498920441"
     },
     "user_tz": -480
    },
    "id": "05681077"
   },
   "outputs": [],
   "source": [
    "models_dict = {\n",
    "    'KNeighborsClassifier': KNeighborsClassifier(),\n",
    "    'LogisticRegressor': LogisticRegression(),\n",
    "    'RandomForestClassifier': RandomForestClassifier(random_state=143),\n",
    "    'DecisionTreeClassifier': DecisionTreeClassifier(random_state=143),\n",
    "    'GradientBoostingClassifier': GradientBoostingClassifier(random_state=143)\n",
    "}"
   ]
  },
  {
   "cell_type": "markdown",
   "id": "11a34f30",
   "metadata": {
    "id": "11a34f30"
   },
   "source": [
    "## No Resampling"
   ]
  },
  {
   "cell_type": "code",
   "execution_count": 15,
   "id": "34c907ce",
   "metadata": {
    "ExecuteTime": {
     "end_time": "2023-01-19T04:44:36.309093Z",
     "start_time": "2023-01-19T04:42:42.497725Z"
    },
    "colab": {
     "base_uri": "https://localhost:8080/",
     "height": 242
    },
    "execution": {
     "iopub.execute_input": "2024-10-06T13:13:45.112060Z",
     "iopub.status.busy": "2024-10-06T13:13:45.111398Z",
     "iopub.status.idle": "2024-10-06T13:16:18.779310Z",
     "shell.execute_reply": "2024-10-06T13:16:18.778324Z",
     "shell.execute_reply.started": "2024-10-06T13:13:45.112002Z"
    },
    "executionInfo": {
     "elapsed": 188132,
     "status": "ok",
     "timestamp": 1728118543187,
     "user": {
      "displayName": "Alyssa Valerio",
      "userId": "13917867858498920441"
     },
     "user_tz": -480
    },
    "id": "34c907ce",
    "outputId": "17fabe54-a6f3-4ea9-dc35-fc0a792a3418"
   },
   "outputs": [
    {
     "name": "stderr",
     "output_type": "stream",
     "text": [
      "100%|██████████| 5/5 [02:33<00:00, 30.73s/it]"
     ]
    },
    {
     "name": "stdout",
     "output_type": "stream",
     "text": [
      "Total Run Time for all models: 153.64 seconds\n"
     ]
    },
    {
     "name": "stderr",
     "output_type": "stream",
     "text": [
      "\n"
     ]
    },
    {
     "data": {
      "text/html": [
       "<div>\n",
       "<style scoped>\n",
       "    .dataframe tbody tr th:only-of-type {\n",
       "        vertical-align: middle;\n",
       "    }\n",
       "\n",
       "    .dataframe tbody tr th {\n",
       "        vertical-align: top;\n",
       "    }\n",
       "\n",
       "    .dataframe thead th {\n",
       "        text-align: right;\n",
       "    }\n",
       "</style>\n",
       "<table border=\"1\" class=\"dataframe\">\n",
       "  <thead>\n",
       "    <tr style=\"text-align: right;\">\n",
       "      <th></th>\n",
       "      <th>ave_val_auc_pr</th>\n",
       "      <th>run_time</th>\n",
       "    </tr>\n",
       "  </thead>\n",
       "  <tbody>\n",
       "    <tr>\n",
       "      <th>KNeighborsClassifier</th>\n",
       "      <td>0.618657</td>\n",
       "      <td>1.182952</td>\n",
       "    </tr>\n",
       "    <tr>\n",
       "      <th>LogisticRegressor</th>\n",
       "      <td>0.670646</td>\n",
       "      <td>5.876858</td>\n",
       "    </tr>\n",
       "    <tr>\n",
       "      <th>RandomForestClassifier</th>\n",
       "      <td>0.850307</td>\n",
       "      <td>27.147600</td>\n",
       "    </tr>\n",
       "    <tr>\n",
       "      <th>DecisionTreeClassifier</th>\n",
       "      <td>0.721733</td>\n",
       "      <td>2.635089</td>\n",
       "    </tr>\n",
       "    <tr>\n",
       "      <th>GradientBoostingClassifier</th>\n",
       "      <td>0.543836</td>\n",
       "      <td>116.787299</td>\n",
       "    </tr>\n",
       "  </tbody>\n",
       "</table>\n",
       "</div>"
      ],
      "text/plain": [
       "                            ave_val_auc_pr    run_time\n",
       "KNeighborsClassifier              0.618657    1.182952\n",
       "LogisticRegressor                 0.670646    5.876858\n",
       "RandomForestClassifier            0.850307   27.147600\n",
       "DecisionTreeClassifier            0.721733    2.635089\n",
       "GradientBoostingClassifier        0.543836  116.787299"
      ]
     },
     "metadata": {},
     "output_type": "display_data"
    }
   ],
   "source": [
    "from sklearn.metrics import precision_recall_curve, auc\n",
    "import matplotlib.pyplot as plt\n",
    "import time  # Import time for tracking runtime\n",
    "\n",
    "# Stratified KFold and results storage\n",
    "skf = StratifiedKFold(n_splits=5)\n",
    "res = {}\n",
    "\n",
    "# Start the total time tracking for all models\n",
    "total_start = time.time()\n",
    "\n",
    "for model_name, model in tqdm(models_dict.items()):\n",
    "    val_auc_pr_scores = []  # For storing AUC-PR values\n",
    "    \n",
    "    # Start time tracking for each model\n",
    "    model_start = time.time()\n",
    "\n",
    "    for train_index, val_index in skf.split(X_trainval, y_trainval):\n",
    "        X_train, X_val = X_trainval.iloc[train_index], X_trainval.iloc[val_index]\n",
    "        y_train, y_val = y_trainval.iloc[train_index], y_trainval.iloc[val_index]\n",
    "\n",
    "        # fit model\n",
    "        model.fit(X_train, y_train)\n",
    "\n",
    "        # predict probabilities (not class labels)\n",
    "        val_probs = model.predict_proba(X_val)[:, 1]\n",
    "\n",
    "        # Calculate precision-recall curve and AUC-PR\n",
    "        precision, recall, _ = precision_recall_curve(y_val, val_probs)\n",
    "        auc_pr = auc(recall, precision)\n",
    "        val_auc_pr_scores.append(auc_pr)\n",
    "\n",
    "    # End time tracking for each model\n",
    "    model_end = time.time()\n",
    "    model_elapsed = model_end - model_start\n",
    "\n",
    "    # Store results for the current model\n",
    "    res[model_name] = {\n",
    "        'ave_val_auc_pr': np.mean(val_auc_pr_scores),  # AUC-PR\n",
    "        'run_time': model_elapsed  # Time taken for this model\n",
    "    }\n",
    "\n",
    "# End the total time tracking for all models\n",
    "total_end = time.time()\n",
    "total_elapsed = total_end - total_start\n",
    "print(f\"Total Run Time for all models: {total_elapsed:.2f} seconds\")\n",
    "\n",
    "# Convert to DataFrame and display\n",
    "no_sampling_df = pd.DataFrame(res).T\n",
    "display(no_sampling_df)"
   ]
  },
  {
   "cell_type": "markdown",
   "id": "a6dc764a",
   "metadata": {
    "id": "a6dc764a"
   },
   "source": [
    "## With Resampling\n",
    "### Random Undersampling"
   ]
  },
  {
   "cell_type": "code",
   "execution_count": 8,
   "id": "6f4165c8",
   "metadata": {
    "ExecuteTime": {
     "end_time": "2023-01-19T04:44:42.149610Z",
     "start_time": "2023-01-19T04:44:36.312978Z"
    },
    "colab": {
     "base_uri": "https://localhost:8080/",
     "height": 241
    },
    "execution": {
     "iopub.execute_input": "2024-10-06T12:44:17.668750Z",
     "iopub.status.busy": "2024-10-06T12:44:17.667978Z",
     "iopub.status.idle": "2024-10-06T12:44:20.503314Z",
     "shell.execute_reply": "2024-10-06T12:44:20.502517Z",
     "shell.execute_reply.started": "2024-10-06T12:44:17.668685Z"
    },
    "id": "6f4165c8",
    "outputId": "b0e23fe1-55f8-459d-fe8a-6d5c494789cd"
   },
   "outputs": [
    {
     "name": "stderr",
     "output_type": "stream",
     "text": [
      "100%|██████████| 5/5 [00:02<00:00,  1.78it/s]"
     ]
    },
    {
     "name": "stdout",
     "output_type": "stream",
     "text": [
      "Total Run Time for all models: 2.81 seconds\n"
     ]
    },
    {
     "name": "stderr",
     "output_type": "stream",
     "text": [
      "\n"
     ]
    },
    {
     "data": {
      "text/html": [
       "<div>\n",
       "<style scoped>\n",
       "    .dataframe tbody tr th:only-of-type {\n",
       "        vertical-align: middle;\n",
       "    }\n",
       "\n",
       "    .dataframe tbody tr th {\n",
       "        vertical-align: top;\n",
       "    }\n",
       "\n",
       "    .dataframe thead th {\n",
       "        text-align: right;\n",
       "    }\n",
       "</style>\n",
       "<table border=\"1\" class=\"dataframe\">\n",
       "  <thead>\n",
       "    <tr style=\"text-align: right;\">\n",
       "      <th></th>\n",
       "      <th>ave_val_auc_pr</th>\n",
       "      <th>run_time</th>\n",
       "    </tr>\n",
       "  </thead>\n",
       "  <tbody>\n",
       "    <tr>\n",
       "      <th>KNeighborsClassifier</th>\n",
       "      <td>0.335310</td>\n",
       "      <td>0.103938</td>\n",
       "    </tr>\n",
       "    <tr>\n",
       "      <th>LogisticRegressor</th>\n",
       "      <td>0.169336</td>\n",
       "      <td>0.914570</td>\n",
       "    </tr>\n",
       "    <tr>\n",
       "      <th>RandomForestClassifier</th>\n",
       "      <td>0.730354</td>\n",
       "      <td>0.948955</td>\n",
       "    </tr>\n",
       "    <tr>\n",
       "      <th>DecisionTreeClassifier</th>\n",
       "      <td>0.440078</td>\n",
       "      <td>0.073562</td>\n",
       "    </tr>\n",
       "    <tr>\n",
       "      <th>GradientBoostingClassifier</th>\n",
       "      <td>0.130273</td>\n",
       "      <td>0.760698</td>\n",
       "    </tr>\n",
       "  </tbody>\n",
       "</table>\n",
       "</div>"
      ],
      "text/plain": [
       "                            ave_val_auc_pr  run_time\n",
       "KNeighborsClassifier              0.335310  0.103938\n",
       "LogisticRegressor                 0.169336  0.914570\n",
       "RandomForestClassifier            0.730354  0.948955\n",
       "DecisionTreeClassifier            0.440078  0.073562\n",
       "GradientBoostingClassifier        0.130273  0.760698"
      ]
     },
     "metadata": {},
     "output_type": "display_data"
    }
   ],
   "source": [
    "from sklearn.metrics import precision_recall_curve, auc\n",
    "import time  # Importing time for tracking runtime\n",
    "\n",
    "# Stratified KFold and results storage\n",
    "skf = StratifiedKFold(n_splits=5)\n",
    "undersampler = {}\n",
    "\n",
    "# Start the total time tracking for all models\n",
    "total_start = time.time()\n",
    "\n",
    "for model_name, model in tqdm(models_dict.items()):\n",
    "    val_auc_pr_scores = []  # For storing AUC-PR values\n",
    "    \n",
    "    # Start time tracking for each model\n",
    "    model_start = time.time()\n",
    "\n",
    "    for train_index, val_index in skf.split(X_trainval, y_trainval):\n",
    "        X_train, X_val = X_trainval.iloc[train_index], X_trainval.iloc[val_index]\n",
    "        y_train, y_val = y_trainval.iloc[train_index], y_trainval.iloc[val_index]\n",
    "\n",
    "        # Create a pipeline with undersampling and model\n",
    "        pipeline = Pipeline([('RandomUnderSampler', RandomUnderSampler(random_state=143)),\n",
    "                             (model_name, model)])\n",
    "        pipeline.fit(X_train, y_train)\n",
    "\n",
    "        # predict probabilities (not class labels)\n",
    "        val_probs = pipeline.predict_proba(X_val)[:, 1]\n",
    "\n",
    "        # Calculate precision-recall curve and AUC-PR\n",
    "        precision, recall, _ = precision_recall_curve(y_val, val_probs)\n",
    "        auc_pr = auc(recall, precision)\n",
    "        val_auc_pr_scores.append(auc_pr)\n",
    "\n",
    "    # End time tracking for each model\n",
    "    model_end = time.time()\n",
    "    model_elapsed = model_end - model_start\n",
    "\n",
    "    # Store results for the current model\n",
    "    undersampler[model_name] = {\n",
    "        'ave_val_auc_pr': np.mean(val_auc_pr_scores),  # AUC-PR\n",
    "        'run_time': model_elapsed  # Time taken for this model\n",
    "    }\n",
    "\n",
    "# End the total time tracking for all models\n",
    "total_end = time.time()\n",
    "total_elapsed = total_end - total_start\n",
    "print(f\"Total Run Time for all models: {total_elapsed:.2f} seconds\")\n",
    "\n",
    "# Convert to DataFrame and display\n",
    "undersampler_df = pd.DataFrame(undersampler).T\n",
    "display(undersampler_df)"
   ]
  },
  {
   "cell_type": "markdown",
   "id": "d511f6f4",
   "metadata": {
    "id": "d511f6f4"
   },
   "source": [
    "### Random Oversampling"
   ]
  },
  {
   "cell_type": "code",
   "execution_count": 9,
   "id": "fe76b94d",
   "metadata": {
    "ExecuteTime": {
     "end_time": "2023-01-19T04:46:53.941217Z",
     "start_time": "2023-01-19T04:44:42.152090Z"
    },
    "colab": {
     "base_uri": "https://localhost:8080/",
     "height": 241
    },
    "execution": {
     "iopub.execute_input": "2024-10-06T12:48:22.625660Z",
     "iopub.status.busy": "2024-10-06T12:48:22.625018Z",
     "iopub.status.idle": "2024-10-06T12:51:10.071389Z",
     "shell.execute_reply": "2024-10-06T12:51:10.070477Z",
     "shell.execute_reply.started": "2024-10-06T12:48:22.625602Z"
    },
    "id": "fe76b94d",
    "outputId": "49a4bdac-fa07-456c-afe7-eead19fdd234"
   },
   "outputs": [
    {
     "name": "stderr",
     "output_type": "stream",
     "text": [
      "100%|██████████| 5/5 [02:47<00:00, 33.48s/it]"
     ]
    },
    {
     "name": "stdout",
     "output_type": "stream",
     "text": [
      "Total Run Time for all models: 167.42 seconds\n"
     ]
    },
    {
     "name": "stderr",
     "output_type": "stream",
     "text": [
      "\n"
     ]
    },
    {
     "data": {
      "text/html": [
       "<div>\n",
       "<style scoped>\n",
       "    .dataframe tbody tr th:only-of-type {\n",
       "        vertical-align: middle;\n",
       "    }\n",
       "\n",
       "    .dataframe tbody tr th {\n",
       "        vertical-align: top;\n",
       "    }\n",
       "\n",
       "    .dataframe thead th {\n",
       "        text-align: right;\n",
       "    }\n",
       "</style>\n",
       "<table border=\"1\" class=\"dataframe\">\n",
       "  <thead>\n",
       "    <tr style=\"text-align: right;\">\n",
       "      <th></th>\n",
       "      <th>ave_val_auc_pr</th>\n",
       "      <th>run_time</th>\n",
       "    </tr>\n",
       "  </thead>\n",
       "  <tbody>\n",
       "    <tr>\n",
       "      <th>KNeighborsClassifier</th>\n",
       "      <td>0.545005</td>\n",
       "      <td>2.316833</td>\n",
       "    </tr>\n",
       "    <tr>\n",
       "      <th>LogisticRegressor</th>\n",
       "      <td>0.680234</td>\n",
       "      <td>12.233689</td>\n",
       "    </tr>\n",
       "    <tr>\n",
       "      <th>RandomForestClassifier</th>\n",
       "      <td>0.833094</td>\n",
       "      <td>20.364742</td>\n",
       "    </tr>\n",
       "    <tr>\n",
       "      <th>DecisionTreeClassifier</th>\n",
       "      <td>0.612178</td>\n",
       "      <td>1.731496</td>\n",
       "    </tr>\n",
       "    <tr>\n",
       "      <th>GradientBoostingClassifier</th>\n",
       "      <td>0.746200</td>\n",
       "      <td>130.760761</td>\n",
       "    </tr>\n",
       "  </tbody>\n",
       "</table>\n",
       "</div>"
      ],
      "text/plain": [
       "                            ave_val_auc_pr    run_time\n",
       "KNeighborsClassifier              0.545005    2.316833\n",
       "LogisticRegressor                 0.680234   12.233689\n",
       "RandomForestClassifier            0.833094   20.364742\n",
       "DecisionTreeClassifier            0.612178    1.731496\n",
       "GradientBoostingClassifier        0.746200  130.760761"
      ]
     },
     "metadata": {},
     "output_type": "display_data"
    }
   ],
   "source": [
    "from sklearn.metrics import precision_recall_curve, auc\n",
    "import time\n",
    "from imblearn.pipeline import Pipeline\n",
    "from imblearn.over_sampling import RandomOverSampler\n",
    "\n",
    "# Stratified KFold and results storage\n",
    "skf = StratifiedKFold(n_splits=5)\n",
    "\n",
    "oversampler = {}\n",
    "\n",
    "# log start time for total run\n",
    "total_start = time.time()\n",
    "\n",
    "for model_name, model in tqdm(models_dict.items()):\n",
    "    val_auc_pr_scores = []  # For storing AUC-PR values\n",
    "    \n",
    "    # Start time tracking for the current model\n",
    "    model_start = time.time()\n",
    "\n",
    "    for train_index, val_index in skf.split(X_trainval, y_trainval):\n",
    "        X_train, X_val = X_trainval.iloc[train_index], X_trainval.iloc[val_index]\n",
    "        y_train, y_val = y_trainval.iloc[train_index], y_trainval.iloc[val_index]\n",
    "\n",
    "        start_time = time.time()  # Start timing the fit and evaluation\n",
    "\n",
    "        # Create a pipeline with Random OverSampling and model\n",
    "        pipeline = Pipeline([('RandomOverSampler', RandomOverSampler(random_state=143)),\n",
    "                             (model_name, model)])\n",
    "        pipeline.fit(X_train, y_train)\n",
    "\n",
    "        # Predict probabilities (not class labels) for AUC-PR\n",
    "        val_probs = pipeline.predict_proba(X_val)[:, 1]\n",
    "\n",
    "        # Calculate precision-recall curve and AUC-PR\n",
    "        precision, recall, _ = precision_recall_curve(y_val, val_probs)\n",
    "        auc_pr = auc(recall, precision)\n",
    "\n",
    "        end_time = time.time()  # End timing the fit and evaluation\n",
    "\n",
    "        val_auc_pr_scores.append(auc_pr)\n",
    "\n",
    "    # End time tracking for the current model\n",
    "    model_end = time.time()\n",
    "    model_elapsed = model_end - model_start\n",
    "\n",
    "    # Store results for the current model\n",
    "    oversampler[model_name] = {\n",
    "        'ave_val_auc_pr': np.mean(val_auc_pr_scores),  # Average AUC-PR across splits\n",
    "        'run_time': model_elapsed  # Total run time for this model\n",
    "    }\n",
    "\n",
    "# log end time for total run\n",
    "total_end = time.time()\n",
    "total_elapsed = total_end - total_start\n",
    "print(f\"Total Run Time for all models: {total_elapsed:.2f} seconds\")\n",
    "\n",
    "# Convert to DataFrame and display\n",
    "oversampler_df = pd.DataFrame(oversampler).T\n",
    "display(oversampler_df)"
   ]
  },
  {
   "cell_type": "markdown",
   "id": "14756610",
   "metadata": {
    "id": "14756610"
   },
   "source": [
    "### SMOTE"
   ]
  },
  {
   "cell_type": "code",
   "execution_count": 10,
   "id": "d08742b1",
   "metadata": {
    "ExecuteTime": {
     "end_time": "2023-01-19T04:55:17.643393Z",
     "start_time": "2023-01-19T04:51:05.367615Z"
    },
    "colab": {
     "base_uri": "https://localhost:8080/",
     "height": 241
    },
    "execution": {
     "iopub.execute_input": "2024-10-06T12:51:17.926768Z",
     "iopub.status.busy": "2024-10-06T12:51:17.926071Z",
     "iopub.status.idle": "2024-10-06T12:56:48.365624Z",
     "shell.execute_reply": "2024-10-06T12:56:48.364684Z",
     "shell.execute_reply.started": "2024-10-06T12:51:17.926709Z"
    },
    "id": "d08742b1",
    "outputId": "38aa78b1-e611-47f5-d384-ac5a0c8c7ea3"
   },
   "outputs": [
    {
     "name": "stderr",
     "output_type": "stream",
     "text": [
      "100%|██████████| 5/5 [05:30<00:00, 66.08s/it] "
     ]
    },
    {
     "name": "stdout",
     "output_type": "stream",
     "text": [
      "Total Run Time for all models: 330.41 seconds\n"
     ]
    },
    {
     "name": "stderr",
     "output_type": "stream",
     "text": [
      "\n"
     ]
    },
    {
     "data": {
      "text/html": [
       "<div>\n",
       "<style scoped>\n",
       "    .dataframe tbody tr th:only-of-type {\n",
       "        vertical-align: middle;\n",
       "    }\n",
       "\n",
       "    .dataframe tbody tr th {\n",
       "        vertical-align: top;\n",
       "    }\n",
       "\n",
       "    .dataframe thead th {\n",
       "        text-align: right;\n",
       "    }\n",
       "</style>\n",
       "<table border=\"1\" class=\"dataframe\">\n",
       "  <thead>\n",
       "    <tr style=\"text-align: right;\">\n",
       "      <th></th>\n",
       "      <th>ave_val_auc_pr</th>\n",
       "      <th>run_time</th>\n",
       "    </tr>\n",
       "  </thead>\n",
       "  <tbody>\n",
       "    <tr>\n",
       "      <th>KNeighborsClassifier</th>\n",
       "      <td>0.569363</td>\n",
       "      <td>2.434796</td>\n",
       "    </tr>\n",
       "    <tr>\n",
       "      <th>LogisticRegressor</th>\n",
       "      <td>0.705843</td>\n",
       "      <td>9.993169</td>\n",
       "    </tr>\n",
       "    <tr>\n",
       "      <th>RandomForestClassifier</th>\n",
       "      <td>0.812747</td>\n",
       "      <td>73.350035</td>\n",
       "    </tr>\n",
       "    <tr>\n",
       "      <th>DecisionTreeClassifier</th>\n",
       "      <td>0.511439</td>\n",
       "      <td>9.337999</td>\n",
       "    </tr>\n",
       "    <tr>\n",
       "      <th>GradientBoostingClassifier</th>\n",
       "      <td>0.736833</td>\n",
       "      <td>235.282984</td>\n",
       "    </tr>\n",
       "  </tbody>\n",
       "</table>\n",
       "</div>"
      ],
      "text/plain": [
       "                            ave_val_auc_pr    run_time\n",
       "KNeighborsClassifier              0.569363    2.434796\n",
       "LogisticRegressor                 0.705843    9.993169\n",
       "RandomForestClassifier            0.812747   73.350035\n",
       "DecisionTreeClassifier            0.511439    9.337999\n",
       "GradientBoostingClassifier        0.736833  235.282984"
      ]
     },
     "metadata": {},
     "output_type": "display_data"
    }
   ],
   "source": [
    "from sklearn.metrics import precision_recall_curve, auc\n",
    "from imblearn.over_sampling import SMOTE\n",
    "from imblearn.pipeline import Pipeline\n",
    "import time\n",
    "\n",
    "# Stratified KFold and results storage\n",
    "skf = StratifiedKFold(n_splits=5)\n",
    "\n",
    "smote = {}\n",
    "\n",
    "# log start time for total run\n",
    "total_start = time.time()\n",
    "\n",
    "for model_name, model in tqdm(models_dict.items()):\n",
    "    val_auc_pr_scores = []  # For storing AUC-PR values\n",
    "\n",
    "    # Start time tracking for the current model\n",
    "    model_start = time.time()\n",
    "\n",
    "    for train_index, val_index in skf.split(X_trainval, y_trainval):\n",
    "        X_train, X_val = X_trainval.iloc[train_index], X_trainval.iloc[val_index]\n",
    "        y_train, y_val = y_trainval.iloc[train_index], y_trainval.iloc[val_index]\n",
    "\n",
    "        # Start timing for the model training and prediction\n",
    "        start_time = time.time()\n",
    "\n",
    "        # Create a pipeline with SMOTE and the model\n",
    "        pipeline = Pipeline([('SMOTEr', SMOTE(random_state=143)),\n",
    "                             (model_name, model)])\n",
    "        pipeline.fit(X_train, y_train)\n",
    "\n",
    "        # Predict probabilities (not class labels) for AUC-PR calculation\n",
    "        val_probs = pipeline.predict_proba(X_val)[:, 1]\n",
    "\n",
    "        # Calculate precision-recall curve and AUC-PR\n",
    "        precision, recall, _ = precision_recall_curve(y_val, val_probs)\n",
    "        auc_pr = auc(recall, precision)\n",
    "\n",
    "        # End timing for the model training and prediction\n",
    "        end_time = time.time()\n",
    "\n",
    "        # Append the AUC-PR score for this fold\n",
    "        val_auc_pr_scores.append(auc_pr)\n",
    "\n",
    "    # End time tracking for the current model\n",
    "    model_end = time.time()\n",
    "    model_elapsed = model_end - model_start\n",
    "\n",
    "    # Store results for the current model\n",
    "    smote[model_name] = {\n",
    "        'ave_val_auc_pr': np.mean(val_auc_pr_scores),  # Average AUC-PR across splits\n",
    "        'run_time': model_elapsed  # Total run time for this model\n",
    "    }\n",
    "\n",
    "# log end time for total run\n",
    "total_end = time.time()\n",
    "total_elapsed = total_end - total_start\n",
    "print(f\"Total Run Time for all models: {total_elapsed:.2f} seconds\")\n",
    "\n",
    "# Convert to DataFrame and display\n",
    "smote_df = pd.DataFrame(smote).T\n",
    "display(smote_df)"
   ]
  },
  {
   "cell_type": "markdown",
   "id": "70e17edd",
   "metadata": {
    "id": "70e17edd"
   },
   "source": [
    "### ADASYN"
   ]
  },
  {
   "cell_type": "code",
   "execution_count": 11,
   "id": "e8bbb140",
   "metadata": {
    "ExecuteTime": {
     "end_time": "2023-01-19T04:55:17.643393Z",
     "start_time": "2023-01-19T04:51:05.367615Z"
    },
    "colab": {
     "base_uri": "https://localhost:8080/",
     "height": 241
    },
    "execution": {
     "iopub.execute_input": "2024-10-06T12:56:48.367392Z",
     "iopub.status.busy": "2024-10-06T12:56:48.367145Z",
     "iopub.status.idle": "2024-10-06T13:02:20.975890Z",
     "shell.execute_reply": "2024-10-06T13:02:20.974918Z",
     "shell.execute_reply.started": "2024-10-06T12:56:48.367371Z"
    },
    "id": "e8bbb140",
    "outputId": "09f201ea-054e-4dfd-bd0e-c28a4a8188f2"
   },
   "outputs": [
    {
     "name": "stderr",
     "output_type": "stream",
     "text": [
      "100%|██████████| 5/5 [05:32<00:00, 66.52s/it] "
     ]
    },
    {
     "name": "stdout",
     "output_type": "stream",
     "text": [
      "Total Run Time for all models: 332.59 seconds\n"
     ]
    },
    {
     "name": "stderr",
     "output_type": "stream",
     "text": [
      "\n"
     ]
    },
    {
     "data": {
      "text/html": [
       "<div>\n",
       "<style scoped>\n",
       "    .dataframe tbody tr th:only-of-type {\n",
       "        vertical-align: middle;\n",
       "    }\n",
       "\n",
       "    .dataframe tbody tr th {\n",
       "        vertical-align: top;\n",
       "    }\n",
       "\n",
       "    .dataframe thead th {\n",
       "        text-align: right;\n",
       "    }\n",
       "</style>\n",
       "<table border=\"1\" class=\"dataframe\">\n",
       "  <thead>\n",
       "    <tr style=\"text-align: right;\">\n",
       "      <th></th>\n",
       "      <th>ave_val_auc_pr</th>\n",
       "      <th>run_time</th>\n",
       "    </tr>\n",
       "  </thead>\n",
       "  <tbody>\n",
       "    <tr>\n",
       "      <th>KNeighborsClassifier</th>\n",
       "      <td>0.566291</td>\n",
       "      <td>2.437455</td>\n",
       "    </tr>\n",
       "    <tr>\n",
       "      <th>LogisticRegressor</th>\n",
       "      <td>0.711290</td>\n",
       "      <td>9.373378</td>\n",
       "    </tr>\n",
       "    <tr>\n",
       "      <th>RandomForestClassifier</th>\n",
       "      <td>0.797712</td>\n",
       "      <td>76.691396</td>\n",
       "    </tr>\n",
       "    <tr>\n",
       "      <th>DecisionTreeClassifier</th>\n",
       "      <td>0.466785</td>\n",
       "      <td>9.159748</td>\n",
       "    </tr>\n",
       "    <tr>\n",
       "      <th>GradientBoostingClassifier</th>\n",
       "      <td>0.699976</td>\n",
       "      <td>234.913929</td>\n",
       "    </tr>\n",
       "  </tbody>\n",
       "</table>\n",
       "</div>"
      ],
      "text/plain": [
       "                            ave_val_auc_pr    run_time\n",
       "KNeighborsClassifier              0.566291    2.437455\n",
       "LogisticRegressor                 0.711290    9.373378\n",
       "RandomForestClassifier            0.797712   76.691396\n",
       "DecisionTreeClassifier            0.466785    9.159748\n",
       "GradientBoostingClassifier        0.699976  234.913929"
      ]
     },
     "metadata": {},
     "output_type": "display_data"
    }
   ],
   "source": [
    "from sklearn.metrics import precision_recall_curve, auc\n",
    "from imblearn.over_sampling import ADASYN\n",
    "from imblearn.pipeline import Pipeline\n",
    "import time\n",
    "\n",
    "# Stratified KFold and results storage\n",
    "skf = StratifiedKFold(n_splits=5)\n",
    "\n",
    "adasyn = {}\n",
    "\n",
    "# log start time for total run\n",
    "total_start = time.time()\n",
    "\n",
    "for model_name, model in tqdm(models_dict.items()):\n",
    "    val_auc_pr_scores = []  # For storing AUC-PR values\n",
    "\n",
    "    # Start time tracking for the current model\n",
    "    model_start = time.time()\n",
    "\n",
    "    for train_index, val_index in skf.split(X_trainval, y_trainval):\n",
    "        X_train, X_val = X_trainval.iloc[train_index], X_trainval.iloc[val_index]\n",
    "        y_train, y_val = y_trainval.iloc[train_index], y_trainval.iloc[val_index]\n",
    "\n",
    "        # Start timing for the model training and prediction\n",
    "        start_time = time.time()\n",
    "\n",
    "        # Create a pipeline with ADASYN and the model\n",
    "        pipeline = Pipeline([('ADASYN', ADASYN(random_state=143)),\n",
    "                             (model_name, model)])\n",
    "        pipeline.fit(X_train, y_train)\n",
    "\n",
    "        # Predict probabilities (not class labels) for AUC-PR calculation\n",
    "        val_probs = pipeline.predict_proba(X_val)[:, 1]\n",
    "\n",
    "        # Calculate precision-recall curve and AUC-PR\n",
    "        precision, recall, _ = precision_recall_curve(y_val, val_probs)\n",
    "        auc_pr = auc(recall, precision)\n",
    "\n",
    "        # End timing for the model training and prediction\n",
    "        end_time = time.time()\n",
    "\n",
    "        # Append the AUC-PR score for this fold\n",
    "        val_auc_pr_scores.append(auc_pr)\n",
    "\n",
    "    # End time tracking for the current model\n",
    "    model_end = time.time()\n",
    "    model_elapsed = model_end - model_start\n",
    "\n",
    "    # Store results for the current model\n",
    "    adasyn[model_name] = {\n",
    "        'ave_val_auc_pr': np.mean(val_auc_pr_scores),  # Average AUC-PR across splits\n",
    "        'run_time': model_elapsed  # Total run time for this model\n",
    "    }\n",
    "\n",
    "# log end time for total run\n",
    "total_end = time.time()\n",
    "total_elapsed = total_end - total_start\n",
    "print(f\"Total Run Time for all models: {total_elapsed:.2f} seconds\")\n",
    "\n",
    "# Convert to DataFrame and display\n",
    "adasyn_df = pd.DataFrame(adasyn).T\n",
    "display(adasyn_df)"
   ]
  },
  {
   "cell_type": "markdown",
   "id": "950e9f0f-1614-46ec-96f6-838699ef6100",
   "metadata": {},
   "source": [
    "### Tomek Links"
   ]
  },
  {
   "cell_type": "code",
   "execution_count": 12,
   "id": "df8a1bff-0682-4c12-a994-1d596fc50d25",
   "metadata": {
    "execution": {
     "iopub.execute_input": "2024-10-06T13:02:20.977559Z",
     "iopub.status.busy": "2024-10-06T13:02:20.977323Z",
     "iopub.status.idle": "2024-10-06T13:05:15.139594Z",
     "shell.execute_reply": "2024-10-06T13:05:15.138233Z",
     "shell.execute_reply.started": "2024-10-06T13:02:20.977540Z"
    }
   },
   "outputs": [
    {
     "name": "stderr",
     "output_type": "stream",
     "text": [
      "100%|██████████| 5/5 [02:54<00:00, 34.83s/it]"
     ]
    },
    {
     "name": "stdout",
     "output_type": "stream",
     "text": [
      "Total Run Time for all models: 174.14 seconds\n"
     ]
    },
    {
     "name": "stderr",
     "output_type": "stream",
     "text": [
      "\n"
     ]
    },
    {
     "data": {
      "text/html": [
       "<div>\n",
       "<style scoped>\n",
       "    .dataframe tbody tr th:only-of-type {\n",
       "        vertical-align: middle;\n",
       "    }\n",
       "\n",
       "    .dataframe tbody tr th {\n",
       "        vertical-align: top;\n",
       "    }\n",
       "\n",
       "    .dataframe thead th {\n",
       "        text-align: right;\n",
       "    }\n",
       "</style>\n",
       "<table border=\"1\" class=\"dataframe\">\n",
       "  <thead>\n",
       "    <tr style=\"text-align: right;\">\n",
       "      <th></th>\n",
       "      <th>ave_val_auc_pr</th>\n",
       "      <th>run_time</th>\n",
       "    </tr>\n",
       "  </thead>\n",
       "  <tbody>\n",
       "    <tr>\n",
       "      <th>KNeighborsClassifier</th>\n",
       "      <td>0.617943</td>\n",
       "      <td>5.057076</td>\n",
       "    </tr>\n",
       "    <tr>\n",
       "      <th>LogisticRegressor</th>\n",
       "      <td>0.675213</td>\n",
       "      <td>11.640071</td>\n",
       "    </tr>\n",
       "    <tr>\n",
       "      <th>RandomForestClassifier</th>\n",
       "      <td>0.798735</td>\n",
       "      <td>31.419321</td>\n",
       "    </tr>\n",
       "    <tr>\n",
       "      <th>DecisionTreeClassifier</th>\n",
       "      <td>0.759756</td>\n",
       "      <td>6.814844</td>\n",
       "    </tr>\n",
       "    <tr>\n",
       "      <th>GradientBoostingClassifier</th>\n",
       "      <td>0.637913</td>\n",
       "      <td>119.196741</td>\n",
       "    </tr>\n",
       "  </tbody>\n",
       "</table>\n",
       "</div>"
      ],
      "text/plain": [
       "                            ave_val_auc_pr    run_time\n",
       "KNeighborsClassifier              0.617943    5.057076\n",
       "LogisticRegressor                 0.675213   11.640071\n",
       "RandomForestClassifier            0.798735   31.419321\n",
       "DecisionTreeClassifier            0.759756    6.814844\n",
       "GradientBoostingClassifier        0.637913  119.196741"
      ]
     },
     "metadata": {},
     "output_type": "display_data"
    }
   ],
   "source": [
    "from sklearn.metrics import precision_recall_curve, auc\n",
    "from imblearn.under_sampling import TomekLinks\n",
    "from imblearn.pipeline import Pipeline\n",
    "import time\n",
    "\n",
    "# Stratified KFold and results storage\n",
    "skf = StratifiedKFold(n_splits=5)\n",
    "\n",
    "tomek = {}\n",
    "\n",
    "# log start time for total run\n",
    "total_start = time.time()\n",
    "\n",
    "for model_name, model in tqdm(models_dict.items()):\n",
    "    val_auc_pr_scores = []  # For storing AUC-PR values\n",
    "\n",
    "    # Start time tracking for the current model\n",
    "    model_start = time.time()\n",
    "\n",
    "    for train_index, val_index in skf.split(X_trainval, y_trainval):\n",
    "        X_train, X_val = X_trainval.iloc[train_index], X_trainval.iloc[val_index]\n",
    "        y_train, y_val = y_trainval.iloc[train_index], y_trainval.iloc[val_index]\n",
    "\n",
    "        # Start timing for the model training and prediction\n",
    "        start_time = time.time()\n",
    "\n",
    "        # Create a pipeline with Tomek Links and the model\n",
    "        pipeline = Pipeline([('TomekLinks', TomekLinks()),\n",
    "                             (model_name, model)])\n",
    "        pipeline.fit(X_train, y_train)\n",
    "\n",
    "        # Predict probabilities (not class labels) for AUC-PR calculation\n",
    "        val_probs = pipeline.predict_proba(X_val)[:, 1]\n",
    "\n",
    "        # Calculate precision-recall curve and AUC-PR\n",
    "        precision, recall, _ = precision_recall_curve(y_val, val_probs)\n",
    "        auc_pr = auc(recall, precision)\n",
    "\n",
    "        # End timing for the model training and prediction\n",
    "        end_time = time.time()\n",
    "\n",
    "        # Append the AUC-PR score for this fold\n",
    "        val_auc_pr_scores.append(auc_pr)\n",
    "\n",
    "    # End time tracking for the current model\n",
    "    model_end = time.time()\n",
    "    model_elapsed = model_end - model_start\n",
    "\n",
    "    # Store results for the current model\n",
    "    tomek[model_name] = {\n",
    "        'ave_val_auc_pr': np.mean(val_auc_pr_scores),  # Average AUC-PR across splits\n",
    "        'run_time': model_elapsed  # Total run time for this model\n",
    "    }\n",
    "\n",
    "# log end time for total run\n",
    "total_end = time.time()\n",
    "total_elapsed = total_end - total_start\n",
    "print(f\"Total Run Time for all models: {total_elapsed:.2f} seconds\")\n",
    "\n",
    "# Convert to DataFrame and display\n",
    "tomek_df = pd.DataFrame(tomek).T\n",
    "display(tomek_df)"
   ]
  },
  {
   "cell_type": "markdown",
   "id": "56459998-150b-4246-851c-6bad2eec68ab",
   "metadata": {},
   "source": [
    "### SMOTEK: Oversample with SMOTE, then Undersample with Tomek Links"
   ]
  },
  {
   "cell_type": "code",
   "execution_count": 13,
   "id": "eb26f159-1a6f-4793-9d35-a62bc82e0922",
   "metadata": {
    "execution": {
     "iopub.execute_input": "2024-10-06T13:05:15.141542Z",
     "iopub.status.busy": "2024-10-06T13:05:15.141294Z",
     "iopub.status.idle": "2024-10-06T13:11:59.211659Z",
     "shell.execute_reply": "2024-10-06T13:11:59.210676Z",
     "shell.execute_reply.started": "2024-10-06T13:05:15.141521Z"
    }
   },
   "outputs": [
    {
     "name": "stderr",
     "output_type": "stream",
     "text": [
      "100%|██████████| 5/5 [06:44<00:00, 80.81s/it] "
     ]
    },
    {
     "name": "stdout",
     "output_type": "stream",
     "text": [
      "Total Run Time for all models: 404.05 seconds\n"
     ]
    },
    {
     "name": "stderr",
     "output_type": "stream",
     "text": [
      "\n"
     ]
    },
    {
     "data": {
      "text/html": [
       "<div>\n",
       "<style scoped>\n",
       "    .dataframe tbody tr th:only-of-type {\n",
       "        vertical-align: middle;\n",
       "    }\n",
       "\n",
       "    .dataframe tbody tr th {\n",
       "        vertical-align: top;\n",
       "    }\n",
       "\n",
       "    .dataframe thead th {\n",
       "        text-align: right;\n",
       "    }\n",
       "</style>\n",
       "<table border=\"1\" class=\"dataframe\">\n",
       "  <thead>\n",
       "    <tr style=\"text-align: right;\">\n",
       "      <th></th>\n",
       "      <th>ave_val_auc_pr</th>\n",
       "      <th>run_time</th>\n",
       "    </tr>\n",
       "  </thead>\n",
       "  <tbody>\n",
       "    <tr>\n",
       "      <th>KNeighborsClassifier</th>\n",
       "      <td>0.562949</td>\n",
       "      <td>17.240974</td>\n",
       "    </tr>\n",
       "    <tr>\n",
       "      <th>LogisticRegressor</th>\n",
       "      <td>0.711686</td>\n",
       "      <td>24.685352</td>\n",
       "    </tr>\n",
       "    <tr>\n",
       "      <th>RandomForestClassifier</th>\n",
       "      <td>0.803757</td>\n",
       "      <td>88.266221</td>\n",
       "    </tr>\n",
       "    <tr>\n",
       "      <th>DecisionTreeClassifier</th>\n",
       "      <td>0.504067</td>\n",
       "      <td>24.108864</td>\n",
       "    </tr>\n",
       "    <tr>\n",
       "      <th>GradientBoostingClassifier</th>\n",
       "      <td>0.765133</td>\n",
       "      <td>249.733488</td>\n",
       "    </tr>\n",
       "  </tbody>\n",
       "</table>\n",
       "</div>"
      ],
      "text/plain": [
       "                            ave_val_auc_pr    run_time\n",
       "KNeighborsClassifier              0.562949   17.240974\n",
       "LogisticRegressor                 0.711686   24.685352\n",
       "RandomForestClassifier            0.803757   88.266221\n",
       "DecisionTreeClassifier            0.504067   24.108864\n",
       "GradientBoostingClassifier        0.765133  249.733488"
      ]
     },
     "metadata": {},
     "output_type": "display_data"
    }
   ],
   "source": [
    "from sklearn.metrics import precision_recall_curve, auc\n",
    "from imblearn.combine import SMOTETomek\n",
    "from imblearn.pipeline import Pipeline\n",
    "import time\n",
    "\n",
    "# Stratified KFold and results storage\n",
    "skf = StratifiedKFold(n_splits=5)\n",
    "\n",
    "smotek = {}\n",
    "\n",
    "# log start time for total run\n",
    "total_start = time.time()\n",
    "\n",
    "for model_name, model in tqdm(models_dict.items()):\n",
    "    val_auc_pr_scores = []  # For storing AUC-PR values\n",
    "\n",
    "    # Start time tracking for the current model\n",
    "    model_start = time.time()\n",
    "\n",
    "    for train_index, val_index in skf.split(X_trainval, y_trainval):\n",
    "        X_train, X_val = X_trainval.iloc[train_index], X_trainval.iloc[val_index]\n",
    "        y_train, y_val = y_trainval.iloc[train_index], y_trainval.iloc[val_index]\n",
    "\n",
    "        # Start timing for the model training and prediction\n",
    "        start_time = time.time()\n",
    "\n",
    "        # Create a pipeline with SMOTE and Tomek Links followed by the model\n",
    "        pipeline = Pipeline([('SMOTEK', SMOTETomek(random_state=143)),\n",
    "                             (model_name, model)])\n",
    "        pipeline.fit(X_train, y_train)\n",
    "\n",
    "        # Predict probabilities (not class labels) for AUC-PR calculation\n",
    "        val_probs = pipeline.predict_proba(X_val)[:, 1]\n",
    "\n",
    "        # Calculate precision-recall curve and AUC-PR\n",
    "        precision, recall, _ = precision_recall_curve(y_val, val_probs)\n",
    "        auc_pr = auc(recall, precision)\n",
    "\n",
    "        # End timing for the model training and prediction\n",
    "        end_time = time.time()\n",
    "\n",
    "        # Append the AUC-PR score for this fold\n",
    "        val_auc_pr_scores.append(auc_pr)\n",
    "\n",
    "    # End time tracking for the current model\n",
    "    model_end = time.time()\n",
    "    model_elapsed = model_end - model_start\n",
    "\n",
    "    # Store results for the current model\n",
    "    smotek[model_name] = {\n",
    "        'ave_val_auc_pr': np.mean(val_auc_pr_scores),  # Average AUC-PR across splits\n",
    "        'run_time': model_elapsed  # Total run time for this model\n",
    "    }\n",
    "\n",
    "# log end time for total run\n",
    "total_end = time.time()\n",
    "total_elapsed = total_end - total_start\n",
    "print(f\"Total Run Time for all models: {total_elapsed:.2f} seconds\")\n",
    "\n",
    "# Convert to DataFrame and display\n",
    "smotek_df = pd.DataFrame(smotek).T\n",
    "display(smotek_df)"
   ]
  },
  {
   "cell_type": "markdown",
   "id": "ffed61b8",
   "metadata": {
    "id": "ffed61b8"
   },
   "source": [
    "## Comparison"
   ]
  },
  {
   "cell_type": "code",
   "execution_count": 19,
   "id": "b08e859b",
   "metadata": {
    "ExecuteTime": {
     "end_time": "2023-01-19T04:55:17.660091Z",
     "start_time": "2023-01-19T04:55:17.646105Z"
    },
    "colab": {
     "base_uri": "https://localhost:8080/",
     "height": 206
    },
    "execution": {
     "iopub.execute_input": "2024-10-06T13:20:28.364070Z",
     "iopub.status.busy": "2024-10-06T13:20:28.363405Z",
     "iopub.status.idle": "2024-10-06T13:20:28.392147Z",
     "shell.execute_reply": "2024-10-06T13:20:28.390448Z",
     "shell.execute_reply.started": "2024-10-06T13:20:28.364014Z"
    },
    "id": "b08e859b",
    "outputId": "b6f6d901-92eb-416f-d5f9-01d2af50c5ae"
   },
   "outputs": [
    {
     "data": {
      "text/html": [
       "<div>\n",
       "<style scoped>\n",
       "    .dataframe tbody tr th:only-of-type {\n",
       "        vertical-align: middle;\n",
       "    }\n",
       "\n",
       "    .dataframe tbody tr th {\n",
       "        vertical-align: top;\n",
       "    }\n",
       "\n",
       "    .dataframe thead th {\n",
       "        text-align: right;\n",
       "    }\n",
       "</style>\n",
       "<table border=\"1\" class=\"dataframe\">\n",
       "  <thead>\n",
       "    <tr style=\"text-align: right;\">\n",
       "      <th></th>\n",
       "      <th>Model</th>\n",
       "      <th>ave_val_auc_pr</th>\n",
       "      <th>run_time</th>\n",
       "      <th>sampling_method</th>\n",
       "    </tr>\n",
       "  </thead>\n",
       "  <tbody>\n",
       "    <tr>\n",
       "      <th>0</th>\n",
       "      <td>KNeighborsClassifier</td>\n",
       "      <td>0.618657</td>\n",
       "      <td>1.182952</td>\n",
       "      <td>No Sampling</td>\n",
       "    </tr>\n",
       "    <tr>\n",
       "      <th>1</th>\n",
       "      <td>LogisticRegressor</td>\n",
       "      <td>0.670646</td>\n",
       "      <td>5.876858</td>\n",
       "      <td>No Sampling</td>\n",
       "    </tr>\n",
       "    <tr>\n",
       "      <th>2</th>\n",
       "      <td>RandomForestClassifier</td>\n",
       "      <td>0.850307</td>\n",
       "      <td>27.147600</td>\n",
       "      <td>No Sampling</td>\n",
       "    </tr>\n",
       "    <tr>\n",
       "      <th>3</th>\n",
       "      <td>DecisionTreeClassifier</td>\n",
       "      <td>0.721733</td>\n",
       "      <td>2.635089</td>\n",
       "      <td>No Sampling</td>\n",
       "    </tr>\n",
       "    <tr>\n",
       "      <th>4</th>\n",
       "      <td>GradientBoostingClassifier</td>\n",
       "      <td>0.543836</td>\n",
       "      <td>116.787299</td>\n",
       "      <td>No Sampling</td>\n",
       "    </tr>\n",
       "    <tr>\n",
       "      <th>5</th>\n",
       "      <td>KNeighborsClassifier</td>\n",
       "      <td>0.545005</td>\n",
       "      <td>2.316833</td>\n",
       "      <td>Random OverSampling</td>\n",
       "    </tr>\n",
       "    <tr>\n",
       "      <th>6</th>\n",
       "      <td>LogisticRegressor</td>\n",
       "      <td>0.680234</td>\n",
       "      <td>12.233689</td>\n",
       "      <td>Random OverSampling</td>\n",
       "    </tr>\n",
       "    <tr>\n",
       "      <th>7</th>\n",
       "      <td>RandomForestClassifier</td>\n",
       "      <td>0.833094</td>\n",
       "      <td>20.364742</td>\n",
       "      <td>Random OverSampling</td>\n",
       "    </tr>\n",
       "    <tr>\n",
       "      <th>8</th>\n",
       "      <td>DecisionTreeClassifier</td>\n",
       "      <td>0.612178</td>\n",
       "      <td>1.731496</td>\n",
       "      <td>Random OverSampling</td>\n",
       "    </tr>\n",
       "    <tr>\n",
       "      <th>9</th>\n",
       "      <td>GradientBoostingClassifier</td>\n",
       "      <td>0.746200</td>\n",
       "      <td>130.760761</td>\n",
       "      <td>Random OverSampling</td>\n",
       "    </tr>\n",
       "    <tr>\n",
       "      <th>10</th>\n",
       "      <td>KNeighborsClassifier</td>\n",
       "      <td>0.569363</td>\n",
       "      <td>2.434796</td>\n",
       "      <td>SMOTE</td>\n",
       "    </tr>\n",
       "    <tr>\n",
       "      <th>11</th>\n",
       "      <td>LogisticRegressor</td>\n",
       "      <td>0.705843</td>\n",
       "      <td>9.993169</td>\n",
       "      <td>SMOTE</td>\n",
       "    </tr>\n",
       "    <tr>\n",
       "      <th>12</th>\n",
       "      <td>RandomForestClassifier</td>\n",
       "      <td>0.812747</td>\n",
       "      <td>73.350035</td>\n",
       "      <td>SMOTE</td>\n",
       "    </tr>\n",
       "    <tr>\n",
       "      <th>13</th>\n",
       "      <td>DecisionTreeClassifier</td>\n",
       "      <td>0.511439</td>\n",
       "      <td>9.337999</td>\n",
       "      <td>SMOTE</td>\n",
       "    </tr>\n",
       "    <tr>\n",
       "      <th>14</th>\n",
       "      <td>GradientBoostingClassifier</td>\n",
       "      <td>0.736833</td>\n",
       "      <td>235.282984</td>\n",
       "      <td>SMOTE</td>\n",
       "    </tr>\n",
       "    <tr>\n",
       "      <th>15</th>\n",
       "      <td>KNeighborsClassifier</td>\n",
       "      <td>0.617943</td>\n",
       "      <td>5.057076</td>\n",
       "      <td>Tomek Links</td>\n",
       "    </tr>\n",
       "    <tr>\n",
       "      <th>16</th>\n",
       "      <td>LogisticRegressor</td>\n",
       "      <td>0.675213</td>\n",
       "      <td>11.640071</td>\n",
       "      <td>Tomek Links</td>\n",
       "    </tr>\n",
       "    <tr>\n",
       "      <th>17</th>\n",
       "      <td>RandomForestClassifier</td>\n",
       "      <td>0.798735</td>\n",
       "      <td>31.419321</td>\n",
       "      <td>Tomek Links</td>\n",
       "    </tr>\n",
       "    <tr>\n",
       "      <th>18</th>\n",
       "      <td>DecisionTreeClassifier</td>\n",
       "      <td>0.759756</td>\n",
       "      <td>6.814844</td>\n",
       "      <td>Tomek Links</td>\n",
       "    </tr>\n",
       "    <tr>\n",
       "      <th>19</th>\n",
       "      <td>GradientBoostingClassifier</td>\n",
       "      <td>0.637913</td>\n",
       "      <td>119.196741</td>\n",
       "      <td>Tomek Links</td>\n",
       "    </tr>\n",
       "    <tr>\n",
       "      <th>20</th>\n",
       "      <td>KNeighborsClassifier</td>\n",
       "      <td>0.566291</td>\n",
       "      <td>2.437455</td>\n",
       "      <td>ADASYN</td>\n",
       "    </tr>\n",
       "    <tr>\n",
       "      <th>21</th>\n",
       "      <td>LogisticRegressor</td>\n",
       "      <td>0.711290</td>\n",
       "      <td>9.373378</td>\n",
       "      <td>ADASYN</td>\n",
       "    </tr>\n",
       "    <tr>\n",
       "      <th>22</th>\n",
       "      <td>RandomForestClassifier</td>\n",
       "      <td>0.797712</td>\n",
       "      <td>76.691396</td>\n",
       "      <td>ADASYN</td>\n",
       "    </tr>\n",
       "    <tr>\n",
       "      <th>23</th>\n",
       "      <td>DecisionTreeClassifier</td>\n",
       "      <td>0.466785</td>\n",
       "      <td>9.159748</td>\n",
       "      <td>ADASYN</td>\n",
       "    </tr>\n",
       "    <tr>\n",
       "      <th>24</th>\n",
       "      <td>GradientBoostingClassifier</td>\n",
       "      <td>0.699976</td>\n",
       "      <td>234.913929</td>\n",
       "      <td>ADASYN</td>\n",
       "    </tr>\n",
       "    <tr>\n",
       "      <th>25</th>\n",
       "      <td>KNeighborsClassifier</td>\n",
       "      <td>0.562949</td>\n",
       "      <td>17.240974</td>\n",
       "      <td>SMOTEK</td>\n",
       "    </tr>\n",
       "    <tr>\n",
       "      <th>26</th>\n",
       "      <td>LogisticRegressor</td>\n",
       "      <td>0.711686</td>\n",
       "      <td>24.685352</td>\n",
       "      <td>SMOTEK</td>\n",
       "    </tr>\n",
       "    <tr>\n",
       "      <th>27</th>\n",
       "      <td>RandomForestClassifier</td>\n",
       "      <td>0.803757</td>\n",
       "      <td>88.266221</td>\n",
       "      <td>SMOTEK</td>\n",
       "    </tr>\n",
       "    <tr>\n",
       "      <th>28</th>\n",
       "      <td>DecisionTreeClassifier</td>\n",
       "      <td>0.504067</td>\n",
       "      <td>24.108864</td>\n",
       "      <td>SMOTEK</td>\n",
       "    </tr>\n",
       "    <tr>\n",
       "      <th>29</th>\n",
       "      <td>GradientBoostingClassifier</td>\n",
       "      <td>0.765133</td>\n",
       "      <td>249.733488</td>\n",
       "      <td>SMOTEK</td>\n",
       "    </tr>\n",
       "  </tbody>\n",
       "</table>\n",
       "</div>"
      ],
      "text/plain": [
       "                         Model  ave_val_auc_pr    run_time  \\\n",
       "0         KNeighborsClassifier        0.618657    1.182952   \n",
       "1            LogisticRegressor        0.670646    5.876858   \n",
       "2       RandomForestClassifier        0.850307   27.147600   \n",
       "3       DecisionTreeClassifier        0.721733    2.635089   \n",
       "4   GradientBoostingClassifier        0.543836  116.787299   \n",
       "5         KNeighborsClassifier        0.545005    2.316833   \n",
       "6            LogisticRegressor        0.680234   12.233689   \n",
       "7       RandomForestClassifier        0.833094   20.364742   \n",
       "8       DecisionTreeClassifier        0.612178    1.731496   \n",
       "9   GradientBoostingClassifier        0.746200  130.760761   \n",
       "10        KNeighborsClassifier        0.569363    2.434796   \n",
       "11           LogisticRegressor        0.705843    9.993169   \n",
       "12      RandomForestClassifier        0.812747   73.350035   \n",
       "13      DecisionTreeClassifier        0.511439    9.337999   \n",
       "14  GradientBoostingClassifier        0.736833  235.282984   \n",
       "15        KNeighborsClassifier        0.617943    5.057076   \n",
       "16           LogisticRegressor        0.675213   11.640071   \n",
       "17      RandomForestClassifier        0.798735   31.419321   \n",
       "18      DecisionTreeClassifier        0.759756    6.814844   \n",
       "19  GradientBoostingClassifier        0.637913  119.196741   \n",
       "20        KNeighborsClassifier        0.566291    2.437455   \n",
       "21           LogisticRegressor        0.711290    9.373378   \n",
       "22      RandomForestClassifier        0.797712   76.691396   \n",
       "23      DecisionTreeClassifier        0.466785    9.159748   \n",
       "24  GradientBoostingClassifier        0.699976  234.913929   \n",
       "25        KNeighborsClassifier        0.562949   17.240974   \n",
       "26           LogisticRegressor        0.711686   24.685352   \n",
       "27      RandomForestClassifier        0.803757   88.266221   \n",
       "28      DecisionTreeClassifier        0.504067   24.108864   \n",
       "29  GradientBoostingClassifier        0.765133  249.733488   \n",
       "\n",
       "        sampling_method  \n",
       "0           No Sampling  \n",
       "1           No Sampling  \n",
       "2           No Sampling  \n",
       "3           No Sampling  \n",
       "4           No Sampling  \n",
       "5   Random OverSampling  \n",
       "6   Random OverSampling  \n",
       "7   Random OverSampling  \n",
       "8   Random OverSampling  \n",
       "9   Random OverSampling  \n",
       "10                SMOTE  \n",
       "11                SMOTE  \n",
       "12                SMOTE  \n",
       "13                SMOTE  \n",
       "14                SMOTE  \n",
       "15          Tomek Links  \n",
       "16          Tomek Links  \n",
       "17          Tomek Links  \n",
       "18          Tomek Links  \n",
       "19          Tomek Links  \n",
       "20               ADASYN  \n",
       "21               ADASYN  \n",
       "22               ADASYN  \n",
       "23               ADASYN  \n",
       "24               ADASYN  \n",
       "25               SMOTEK  \n",
       "26               SMOTEK  \n",
       "27               SMOTEK  \n",
       "28               SMOTEK  \n",
       "29               SMOTEK  "
      ]
     },
     "metadata": {},
     "output_type": "display_data"
    }
   ],
   "source": [
    "# Combine all DataFrames into one, adding a column for the sampling method\n",
    "oversampler_df['sampling_method'] = 'Random OverSampling'\n",
    "smote_df['sampling_method'] = 'SMOTE'\n",
    "tomek_df['sampling_method'] = 'Tomek Links'\n",
    "adasyn_df['sampling_method'] = 'ADASYN'\n",
    "smotek_df['sampling_method'] = 'SMOTEK'\n",
    "no_sampling_df['sampling_method'] = 'No Sampling'\n",
    "\n",
    "# Concatenate all DataFrames\n",
    "comparison_df = pd.concat([no_sampling_df, oversampler_df, smote_df, tomek_df, adasyn_df, smotek_df])\n",
    "\n",
    "# Reset the index so that model names are preserved\n",
    "comparison_df = comparison_df.reset_index()\n",
    "\n",
    "# Display the comparison DataFrame\n",
    "display(comparison_df)"
   ]
  },
  {
   "cell_type": "code",
   "execution_count": 17,
   "id": "f7081c6f",
   "metadata": {
    "ExecuteTime": {
     "end_time": "2023-01-19T04:55:17.905657Z",
     "start_time": "2023-01-19T04:55:17.662186Z"
    },
    "colab": {
     "base_uri": "https://localhost:8080/",
     "height": 831
    },
    "execution": {
     "iopub.execute_input": "2024-10-06T13:19:38.256871Z",
     "iopub.status.busy": "2024-10-06T13:19:38.256211Z",
     "iopub.status.idle": "2024-10-06T13:19:38.663938Z",
     "shell.execute_reply": "2024-10-06T13:19:38.662646Z",
     "shell.execute_reply.started": "2024-10-06T13:19:38.256815Z"
    },
    "id": "f7081c6f",
    "outputId": "320433f6-2dc4-4de0-db7e-1c8f3acc107d"
   },
   "outputs": [
    {
     "data": {
      "image/png": "[encoded data removed]",
      "text/plain": [
       "<Figure size 1200x800 with 1 Axes>"
      ]
     },
     "metadata": {},
     "output_type": "display_data"
    }
   ],
   "source": [
    "import matplotlib.pyplot as plt\n",
    "import seaborn as sns\n",
    "\n",
    "# Plotting AUC-PR comparison across models and sampling methods\n",
    "plt.figure(figsize=(12, 8))\n",
    "sns.barplot(x='index', y='ave_val_auc_pr', hue='sampling_method', data=comparison_df)\n",
    "\n",
    "plt.title('Comparison of AUC-PR Scores Across Models and Sampling Methods', fontsize=16)\n",
    "plt.xlabel('Model', fontsize=12)\n",
    "plt.ylabel('AUC-PR Score', fontsize=12)\n",
    "plt.xticks(rotation=45, ha='right')\n",
    "plt.legend(title='Sampling Method')\n",
    "plt.tight_layout()\n",
    "plt.show()"
   ]
  },
  {
   "cell_type": "code",
   "execution_count": null,
   "id": "17c63dbd-dd90-402e-8035-8263014d37c6",
   "metadata": {},
   "outputs": [],
   "source": []
  }
 ],
 "metadata": {
  "colab": {
   "provenance": []
  },
  "hide_input": false,
  "kernelspec": {
   "display_name": "Python 3 (ipykernel)",
   "language": "python",
   "name": "python3"
  },
  "language_info": {
   "codemirror_mode": {
    "name": "ipython",
    "version": 3
   },
   "file_extension": ".py",
   "mimetype": "text/x-python",
   "name": "python",
   "nbconvert_exporter": "python",
   "pygments_lexer": "ipython3",
   "version": "3.11.8"
  },
  "toc": {
   "base_numbering": 1,
   "nav_menu": {},
   "number_sections": true,
   "sideBar": true,
   "skip_h1_title": false,
   "title_cell": "Table of Contents",
   "title_sidebar": "Contents",
   "toc_cell": false,
   "toc_position": {
    "height": "calc(100% - 180px)",
    "left": "10px",
    "top": "150px",
    "width": "303.837px"
   },
   "toc_section_display": true,
   "toc_window_display": true
  }
 },
 "nbformat": 4,
 "nbformat_minor": 5
}
